{
 "cells": [
  {
   "cell_type": "markdown",
   "metadata": {},
   "source": [
    "Для создания параграфа достаточно просто набрать текст в режиме `Markdown` и использовать сочетание клавиш `Shift + Enter`."
   ]
  },
  {
   "cell_type": "markdown",
   "metadata": {},
   "source": [
    "Для выделения подстроки используются обратные кавычки: `` ` ``"
   ]
  },
  {
   "cell_type": "markdown",
   "metadata": {},
   "source": [
    "Заголовки можно получить, используя символ `#`"
   ]
  },
  {
   "cell_type": "markdown",
   "metadata": {},
   "source": [
    "# Header 1\n",
    "## Header 2\n",
    "### Header 3"
   ]
  },
  {
   "cell_type": "markdown",
   "metadata": {},
   "source": [
    "Если нужен неупорядоченный список, можно использовать следующие символы: `*`, или `-`, или `+`. Вложенные пункты создаются четырьмя пробелами перед маркером пункта."
   ]
  },
  {
   "cell_type": "markdown",
   "metadata": {},
   "source": [
    "* Элемент 1\n",
    "* Элемент 2\n",
    "    * Элемент 2.1\n",
    "    * Элемент 2.2\n",
    "* Элемент 3"
   ]
  },
  {
   "cell_type": "markdown",
   "metadata": {},
   "source": [
    "Упорядоченные списки создаются добавлением цифры с точкой:"
   ]
  },
  {
   "cell_type": "markdown",
   "metadata": {},
   "source": [
    "1. Элемент 1\n",
    "2. Элемент 2\n",
    "    1. Элемент 2.1\n",
    "    2. Элемент 2.2\n",
    "3. Элемент 3"
   ]
  },
  {
   "cell_type": "markdown",
   "metadata": {},
   "source": [
    "Исходный код можно добавить с помощью трех обратных кавычек и указания языка."
   ]
  },
  {
   "cell_type": "markdown",
   "metadata": {},
   "source": [
    "```html\n",
    "<!DOCTYPE html>\n",
    "<html lang=\"en\">\n",
    "<head>\n",
    "\t<meta charset=\"UTF-8\">\n",
    "\t<meta name=\"viewport\" content=\"width=device-width, initial-scale=1.0\">\n",
    "\t<title>Document</title>\n",
    "</head>\n",
    "<body>\n",
    "\t\n",
    "</body>\n",
    "</html>\n",
    "```"
   ]
  },
  {
   "cell_type": "markdown",
   "metadata": {},
   "source": [
    "***"
   ]
  },
  {
   "cell_type": "markdown",
   "metadata": {},
   "source": [
    "```python\n",
    "print('Hello world!')\n",
    "```"
   ]
  },
  {
   "cell_type": "markdown",
   "metadata": {},
   "source": [
    "Горизонтальная черта создается так: `***` или так `---`"
   ]
  },
  {
   "cell_type": "markdown",
   "metadata": {},
   "source": [
    "Так создаются ссылки: `[Текст ссылки](http://example.com/ \"Необязательный заголовок ссылки\")`"
   ]
  },
  {
   "cell_type": "markdown",
   "metadata": {},
   "source": [
    "Вот так выглядит [ссылка](http://example.com/ \"Необязательный заголовок ссылки\") в тексте."
   ]
  },
  {
   "cell_type": "markdown",
   "metadata": {},
   "source": [
    "Изображения добавляются так: `![Alt-текст](http://example.com/ \"Заголовок изображения\")`"
   ]
  },
  {
   "cell_type": "markdown",
   "metadata": {},
   "source": [
    "![Alt-текст](https://picsum.photos/500/300 \"Заголовок изображения\")"
   ]
  },
  {
   "cell_type": "markdown",
   "metadata": {},
   "source": [
    "![Alt-текст](picture.jpg \"Заголовок изображения\")"
   ]
  },
  {
   "cell_type": "markdown",
   "metadata": {},
   "source": [
    "##### To watch video from YouTube use this:"
   ]
  },
  {
   "cell_type": "code",
   "execution_count": 3,
   "metadata": {},
   "outputs": [
    {
     "data": {
      "image/jpeg": "[encoded data removed]",
      "text/html": [
       "\n",
       "        <iframe\n",
       "            width=\"800\"\n",
       "            height=\"500\"\n",
       "            src=\"https://www.youtube.com/embed/AJtltCK3tE8\"\n",
       "            frameborder=\"0\"\n",
       "            allowfullscreen\n",
       "        ></iframe>\n",
       "        "
      ],
      "text/plain": [
       "<IPython.lib.display.YouTubeVideo at 0x2645ce23070>"
      ]
     },
     "execution_count": 3,
     "metadata": {},
     "output_type": "execute_result"
    }
   ],
   "source": [
    "from IPython.display import YouTubeVideo\n",
    "YouTubeVideo('AJtltCK3tE8', 800, 500)"
   ]
  },
  {
   "cell_type": "code",
   "execution_count": 1,
   "metadata": {},
   "outputs": [
    {
     "data": {
      "text/html": [
       "\n",
       "        <iframe\n",
       "            width=\"800\"\n",
       "            height=\"500\"\n",
       "            src=\"https://www.youtube.com/embed/AJtltCK3tE8\"\n",
       "            frameborder=\"0\"\n",
       "            allowfullscreen\n",
       "            \n",
       "        ></iframe>\n",
       "        "
      ],
      "text/plain": [
       "<IPython.lib.display.IFrame at 0x24a1fbb7f70>"
      ]
     },
     "execution_count": 1,
     "metadata": {},
     "output_type": "execute_result"
    }
   ],
   "source": [
    "from IPython.display import IFrame\n",
    "IFrame('https://www.youtube.com/embed/AJtltCK3tE8', 800, 500)"
   ]
  },
  {
   "cell_type": "markdown",
   "metadata": {},
   "source": [
    "Jupyter предлагает 2 режима работы с ячейками:\n",
    "* Командный режим.\n",
    "* Режим редактирования"
   ]
  },
  {
   "cell_type": "markdown",
   "metadata": {},
   "source": [
    "Для перехода из командного режима в режим редактирования - достаточно нажать `Enter`. Для возврата - `Esc`.\n",
    "\n",
    "В режиме редактирования можно набирать код или текст Markdown. Для смены режима используются клавиши `M (Markdown)` и `Y (Code)`."
   ]
  },
  {
   "cell_type": "markdown",
   "metadata": {},
   "source": [
    "Некоторые горячие клавиши:\n",
    "* `H` - список горячих клавиш\n",
    "* `🠕🠗` - навигация по ячейкам\n",
    "* `A` - добавить ячейку выше\n",
    "* `B` - добавить ячейку ниже\n",
    "* `D + D` - удалить ячейку\n",
    "* `Z` - отменить удаление ячейку\n",
    "* `Shift + 🠕🠗` - выделение нескольких ячеек\n",
    "* `Shift + M` - объединение ячеек\n",
    "* `Ctrl + Enter` - запустить код в выбранных ячейках\n",
    "* `Alt + Enter` - запустить ячейку и вставить ячейку ниже\n",
    "* `Shift + Enter` - запустить ячейку и перейти к ячейке ниже\n",
    "* `Tab` - автодополнение кода\n",
    "* `Shif + Tab` - всплывающая подсказка"
   ]
  }
 ],
 "metadata": {
  "kernelspec": {
   "display_name": "Python 3 (ipykernel)",
   "language": "python",
   "name": "python3"
  },
  "language_info": {
   "codemirror_mode": {
    "name": "ipython",
    "version": 3
   },
   "file_extension": ".py",
   "mimetype": "text/x-python",
   "name": "python",
   "nbconvert_exporter": "python",
   "pygments_lexer": "ipython3",
   "version": "3.9.12"
  }
 },
 "nbformat": 4,
 "nbformat_minor": 4
}
